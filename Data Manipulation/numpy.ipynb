{
 "cells": [
  {
   "cell_type": "markdown",
   "metadata": {},
   "source": [
    "### Numpy"
   ]
  },
  {
   "cell_type": "code",
   "execution_count": 1,
   "metadata": {},
   "outputs": [],
   "source": [
    "import numpy as np"
   ]
  },
  {
   "cell_type": "code",
   "execution_count": 2,
   "metadata": {},
   "outputs": [
    {
     "name": "stdout",
     "output_type": "stream",
     "text": [
      "[1 2 3 4]\n",
      "<class 'numpy.ndarray'>\n",
      "(4,)\n"
     ]
    }
   ],
   "source": [
    "arr1 = np.array([1,2,3,4])\n",
    "print(arr1)\n",
    "print(type(arr1))\n",
    "print(arr1.shape)"
   ]
  },
  {
   "cell_type": "code",
   "execution_count": 7,
   "metadata": {},
   "outputs": [
    {
     "data": {
      "text/plain": [
       "array([[1, 2, 3, 4, 5]])"
      ]
     },
     "execution_count": 7,
     "metadata": {},
     "output_type": "execute_result"
    }
   ],
   "source": [
    "arr2=np.array([1,2,3,4,5])\n",
    "arr2.reshape(1,5)\n"
   ]
  },
  {
   "cell_type": "code",
   "execution_count": 10,
   "metadata": {},
   "outputs": [
    {
     "name": "stdout",
     "output_type": "stream",
     "text": [
      "[[1 2 3 4]\n",
      " [2 3 4 5]]\n",
      "(2, 4)\n"
     ]
    },
    {
     "data": {
      "text/plain": [
       "array([[1, 2],\n",
       "       [3, 4],\n",
       "       [2, 3],\n",
       "       [4, 5]])"
      ]
     },
     "execution_count": 10,
     "metadata": {},
     "output_type": "execute_result"
    }
   ],
   "source": [
    "arr2=np.array([[1,2,3,4],[2,3,4,5]])\n",
    "print(arr2)\n",
    "print(arr2.shape)\n",
    "arr2.reshape(4,2)"
   ]
  },
  {
   "cell_type": "code",
   "execution_count": 11,
   "metadata": {},
   "outputs": [
    {
     "data": {
      "text/plain": [
       "array([[0],\n",
       "       [2],\n",
       "       [4],\n",
       "       [6],\n",
       "       [8]])"
      ]
     },
     "execution_count": 11,
     "metadata": {},
     "output_type": "execute_result"
    }
   ],
   "source": [
    "np.arange(0,10,2).reshape(5,1)"
   ]
  },
  {
   "cell_type": "code",
   "execution_count": 13,
   "metadata": {},
   "outputs": [
    {
     "data": {
      "text/plain": [
       "array([[1., 1.],\n",
       "       [1., 1.],\n",
       "       [1., 1.]])"
      ]
     },
     "execution_count": 13,
     "metadata": {},
     "output_type": "execute_result"
    }
   ],
   "source": [
    "np.ones((3,2))"
   ]
  },
  {
   "cell_type": "code",
   "execution_count": 14,
   "metadata": {},
   "outputs": [
    {
     "data": {
      "text/plain": [
       "array([[1., 0., 0.],\n",
       "       [0., 1., 0.],\n",
       "       [0., 0., 1.]])"
      ]
     },
     "execution_count": 14,
     "metadata": {},
     "output_type": "execute_result"
    }
   ],
   "source": [
    "## Identity matrix\n",
    "np.eye(3)"
   ]
  },
  {
   "cell_type": "code",
   "execution_count": 15,
   "metadata": {},
   "outputs": [
    {
     "name": "stdout",
     "output_type": "stream",
     "text": [
      "Array:\n",
      " [[1 2 3 4]\n",
      " [2 3 4 5]]\n",
      "Shape: (2, 4)\n",
      "number of dimensions: 2\n",
      "Data type int64\n",
      "Item size (in bytes): 8\n"
     ]
    }
   ],
   "source": [
    "arr=np.array([[1,2,3,4],[2,3,4,5]])\n",
    "\n",
    "print(\"Array:\\n\",arr)\n",
    "print(\"Shape:\",arr.shape)\n",
    "print(\"number of dimensions:\",arr.ndim)\n",
    "print(\"Data type\",arr.dtype)\n",
    "print(\"Item size (in bytes):\",arr.itemsize)"
   ]
  },
  {
   "cell_type": "code",
   "execution_count": 18,
   "metadata": {},
   "outputs": [
    {
     "name": "stdout",
     "output_type": "stream",
     "text": [
      "Addition [11 11 11 11 11]\n",
      "Subtraction [-9 -7 -5 -3 -1]\n",
      "multiplication [10 18 24 28 30]\n",
      "Division [0.1        0.22222222 0.375      0.57142857 0.83333333]\n"
     ]
    }
   ],
   "source": [
    "### Numpy Vectorized operation\n",
    "\n",
    "arr1=np.array([1,2,3,4,5])\n",
    "arr2=np.array([10,9,8,7,6])\n",
    "\n",
    "## Element wise addition\n",
    "print(\"Addition\",arr1+arr2)\n",
    "\n",
    "## Element wise subtraction\n",
    "print(\"Subtraction\",arr1-arr2)\n",
    "\n",
    "## Element wise multiplication\n",
    "print(\"multiplication\",arr1*arr2)\n",
    "\n",
    "## Element wise Division\n",
    "print(\"Division\",arr1/arr2)"
   ]
  },
  {
   "cell_type": "code",
   "execution_count": 23,
   "metadata": {},
   "outputs": [
    {
     "name": "stdout",
     "output_type": "stream",
     "text": [
      "[1.         1.41421356 1.73205081 2.         2.23606798]\n",
      "[  2.71828183   7.3890561   20.08553692  54.59815003 148.4131591 ]\n",
      "[ 0.84147098  0.90929743  0.14112001 -0.7568025  -0.95892427]\n",
      "[0.         0.69314718 1.09861229 1.38629436 1.60943791]\n"
     ]
    }
   ],
   "source": [
    "### Universal Function\n",
    "arr=np.array([1,2,3,4,5])\n",
    "\n",
    "##square root\n",
    "print(np.sqrt(arr))\n",
    "\n",
    "## Exponentiol\n",
    "print(np.exp(arr))\n",
    "\n",
    "## sine\n",
    "print(np.sin(arr))\n",
    "\n",
    "## log\n",
    "print(np.log(arr))"
   ]
  },
  {
   "cell_type": "code",
   "execution_count": 25,
   "metadata": {},
   "outputs": [
    {
     "name": "stdout",
     "output_type": "stream",
     "text": [
      "array:\n",
      " [[ 1  2  3  4  5]\n",
      " [ 6  7  8  9 10]\n",
      " [ 1  2  3  4  5]]\n"
     ]
    }
   ],
   "source": [
    "## array slicing and indexing\n",
    "\n",
    "arr=np.array([[1,2,3,4,5],[6,7,8,9,10],[1,2,3,4,5]])\n",
    "print(\"array:\\n\",arr)"
   ]
  },
  {
   "cell_type": "code",
   "execution_count": null,
   "metadata": {},
   "outputs": [
    {
     "name": "stdout",
     "output_type": "stream",
     "text": [
      "4\n",
      "[3 4 5]\n",
      "[[ 6  7  8  9 10]\n",
      " [ 1  2  3  4  5]]\n",
      "[[ 8  9 10]\n",
      " [ 3  4  5]]\n",
      "[[ 4  5]\n",
      " [ 9 10]]\n",
      "[[ 9 10]\n",
      " [ 4  5]]\n"
     ]
    }
   ],
   "source": [
    "print(arr[0][3])\n",
    "print(arr[0][2:])\n",
    "print(arr[1:])\n",
    "print(arr[1:,2:])\n",
    "print(arr[0:2,3:])\n",
    "print(arr[1:,3:])\n"
   ]
  },
  {
   "cell_type": "code",
   "execution_count": 41,
   "metadata": {},
   "outputs": [
    {
     "name": "stdout",
     "output_type": "stream",
     "text": [
      "[[  1  23   3   4   5]\n",
      " [100 100 100 100 100]\n",
      " [100 100 100 100 100]]\n"
     ]
    }
   ],
   "source": [
    "arr[0,1]=23\n",
    "arr[2,1]=100\n",
    "arr[1:]=100\n",
    "print(arr)"
   ]
  },
  {
   "cell_type": "code",
   "execution_count": 42,
   "metadata": {},
   "outputs": [
    {
     "name": "stdout",
     "output_type": "stream",
     "text": [
      "Normalized data: [-1.41421356 -0.70710678  0.          0.70710678  1.41421356]\n"
     ]
    }
   ],
   "source": [
    "## statistical concept-Normalization\n",
    "## to have a mean of 0 and standard deviation of 1\n",
    "data=np.array([1,2,3,4,5])\n",
    "\n",
    "## calculate mean and standard deviation\n",
    "mean=np.mean(data)\n",
    "std_dev=np.std(data)\n",
    "\n",
    "## Normalize the data\n",
    "normalized_data= (data-mean)/std_dev\n",
    "print(\"Normalized data:\",normalized_data)"
   ]
  },
  {
   "cell_type": "code",
   "execution_count": 44,
   "metadata": {},
   "outputs": [
    {
     "name": "stdout",
     "output_type": "stream",
     "text": [
      "Mean: 5.5\n",
      "Median: 5.5\n",
      "standard deviation: 2.8722813232690143\n",
      "Variance: 8.25\n"
     ]
    }
   ],
   "source": [
    "data = np.array([1,2,3,4,5,6,7,8,9,10])\n",
    "\n",
    "mean=np.mean(data)\n",
    "print(\"Mean:\",mean)\n",
    "\n",
    "median=np.median(data)\n",
    "print(\"Median:\",median)\n",
    "\n",
    "std_dev=np.std(data)\n",
    "print(\"standard deviation:\",std_dev)\n",
    "\n",
    "variance=np.var(data)\n",
    "print(\"Variance:\",variance)"
   ]
  },
  {
   "cell_type": "code",
   "execution_count": 48,
   "metadata": {},
   "outputs": [
    {
     "data": {
      "text/plain": [
       "array([6, 7, 8])"
      ]
     },
     "execution_count": 48,
     "metadata": {},
     "output_type": "execute_result"
    }
   ],
   "source": [
    "## Logical operations\n",
    "data=np.array([1,2,3,4,5,6,7,8,9,10])\n",
    "data[(data>5) & (data<9)]"
   ]
  },
  {
   "cell_type": "code",
   "execution_count": 2,
   "metadata": {},
   "outputs": [
    {
     "name": "stdout",
     "output_type": "stream",
     "text": [
      "Original array:\n",
      "[[ 8 13 16 13 15]\n",
      " [16  7 16  7  3]\n",
      " [19 20  5 20  8]\n",
      " [ 2 13  9  7 16]\n",
      " [13  1  2  6  5]]\n",
      "Modified array:\n",
      "[[ 8 13  1 13 15]\n",
      " [16  7  1  7  3]\n",
      " [19 20  1 20  8]\n",
      " [ 2 13  1  7 16]\n",
      " [13  1  1  6  5]]\n"
     ]
    }
   ],
   "source": [
    "\n",
    "\n",
    "# Create a NumPy array of shape (5, 5) filled with random integers\n",
    "array = np.random.randint(1, 21, size=(5, 5))\n",
    "print(\"Original array:\")\n",
    "print(array)\n",
    "\n",
    "# Replace all the elements in the third column with 1\n",
    "array[:, 2] = 1\n",
    "print(\"Modified array:\")\n",
    "print(array)"
   ]
  },
  {
   "cell_type": "code",
   "execution_count": 3,
   "metadata": {},
   "outputs": [
    {
     "name": "stdout",
     "output_type": "stream",
     "text": [
      "Original array:\n",
      "[[ 1  2  3  4]\n",
      " [ 5  6  7  8]\n",
      " [ 9 10 11 12]\n",
      " [13 14 15 16]]\n",
      "Row-wise sum:\n",
      "[10 26 42 58]\n",
      "Column-wise sum:\n",
      "[28 32 36 40]\n"
     ]
    }
   ],
   "source": [
    "# Create a NumPy array of shape (4, 4) with values from 1 to 16\n",
    "array = np.arange(1, 17).reshape((4, 4))\n",
    "print(\"Original array:\")\n",
    "print(array)\n",
    "\n",
    "# Compute the row-wise and column-wise sum\n",
    "row_sum = np.sum(array, axis=1)\n",
    "column_sum = np.sum(array, axis=0)\n",
    "\n",
    "print(\"Row-wise sum:\")\n",
    "print(row_sum)\n",
    "print(\"Column-wise sum:\")\n",
    "print(column_sum)"
   ]
  },
  {
   "cell_type": "code",
   "execution_count": 4,
   "metadata": {},
   "outputs": [
    {
     "name": "stdout",
     "output_type": "stream",
     "text": [
      "Original array:\n",
      "[[ 7 10  8]\n",
      " [10  7  2]\n",
      " [ 5  4  7]]\n",
      "1D array:\n",
      "[ 8  3 10]\n",
      "Resulting array:\n",
      "[[15 13 18]\n",
      " [18 10 12]\n",
      " [13  7 17]]\n"
     ]
    }
   ],
   "source": [
    "# Create a NumPy array of shape (3, 3) filled with random integers\n",
    "array = np.random.randint(1, 11, size=(3, 3))\n",
    "row_array = np.random.randint(1, 11, size=(3,))\n",
    "print(\"Original array:\")\n",
    "print(array)\n",
    "print(\"1D array:\")\n",
    "print(row_array)\n",
    "\n",
    "# Add the 1D array to each row of the 2D array using broadcasting\n",
    "result = array + row_array\n",
    "print(\"Resulting array:\")\n",
    "print(result)"
   ]
  },
  {
   "cell_type": "code",
   "execution_count": 5,
   "metadata": {},
   "outputs": [
    {
     "name": "stdout",
     "output_type": "stream",
     "text": [
      "Original array:\n",
      "[[ 9 10  5  9]\n",
      " [10  3  9  4]\n",
      " [10  9 10 10]\n",
      " [ 1  2  1  1]]\n",
      "1D array:\n",
      "[8 4 1 6]\n",
      "Resulting array:\n",
      "[[ 1  2 -3  1]\n",
      " [ 6 -1  5  0]\n",
      " [ 9  8  9  9]\n",
      " [-5 -4 -5 -5]]\n"
     ]
    }
   ],
   "source": [
    "# Create a NumPy array of shape (4, 4) filled with random integers\n",
    "array = np.random.randint(1, 11, size=(4, 4))\n",
    "column_array = np.random.randint(1, 11, size=(4,))\n",
    "print(\"Original array:\")\n",
    "print(array)\n",
    "print(\"1D array:\")\n",
    "print(column_array)\n",
    "\n",
    "# Subtract the 1D array from each column of the 2D array using broadcasting\n",
    "result = array - column_array[:, np.newaxis]\n",
    "print(\"Resulting array:\")\n",
    "print(result)"
   ]
  },
  {
   "cell_type": "code",
   "execution_count": 6,
   "metadata": {},
   "outputs": [
    {
     "name": "stdout",
     "output_type": "stream",
     "text": [
      "Original array:\n",
      "[[17  1 19  1 10]\n",
      " [ 8  3  8 13  6]\n",
      " [20  9 16 17  5]\n",
      " [19 12 17 20 13]\n",
      " [19  4 18  6  3]]\n",
      "Flattened array:\n",
      "[17  1 19  1 10  8  3  8 13  6 20  9 16 17  5 19 12 17 20 13 19  4 18  6\n",
      "  3]\n",
      "Reshaped array:\n",
      "[[17  1 19  1 10]\n",
      " [ 8  3  8 13  6]\n",
      " [20  9 16 17  5]\n",
      " [19 12 17 20 13]\n",
      " [19  4 18  6  3]]\n"
     ]
    }
   ],
   "source": [
    "# Create a NumPy array of shape (5, 5) filled with random integers\n",
    "array = np.random.randint(1, 21, size=(5, 5))\n",
    "print(\"Original array:\")\n",
    "print(array)\n",
    "\n",
    "# Flatten the array\n",
    "flattened_array = array.flatten()\n",
    "print(\"Flattened array:\")\n",
    "print(flattened_array)\n",
    "\n",
    "# Reshape the array back to (5, 5)\n",
    "reshaped_array = flattened_array.reshape((5, 5))\n",
    "print(\"Reshaped array:\")\n",
    "print(reshaped_array)"
   ]
  },
  {
   "cell_type": "code",
   "execution_count": 7,
   "metadata": {},
   "outputs": [
    {
     "name": "stdout",
     "output_type": "stream",
     "text": [
      "Original array:\n",
      "[('Alice', 25, 55.5) ('Bob', 30, 85.3) ('Charlie', 20, 65.2)]\n",
      "Sorted array by age:\n",
      "[('Charlie', 20, 65.2) ('Alice', 25, 55.5) ('Bob', 30, 85.3)]\n"
     ]
    }
   ],
   "source": [
    "# Create a structured array with fields 'name', 'age', and 'weight'\n",
    "data_type = [('name', 'U10'), ('age', 'i4'), ('weight', 'f4')]\n",
    "data = np.array([('Alice', 25, 55.5), ('Bob', 30, 85.3), ('Charlie', 20, 65.2)], dtype=data_type)\n",
    "print(\"Original array:\")\n",
    "print(data)\n",
    "\n",
    "# Sort the array by age\n",
    "sorted_data = np.sort(data, order='age')\n",
    "print(\"Sorted array by age:\")\n",
    "print(sorted_data)"
   ]
  },
  {
   "cell_type": "code",
   "execution_count": null,
   "metadata": {},
   "outputs": [],
   "source": []
  }
 ],
 "metadata": {
  "kernelspec": {
   "display_name": "Python 3",
   "language": "python",
   "name": "python3"
  },
  "language_info": {
   "codemirror_mode": {
    "name": "ipython",
    "version": 3
   },
   "file_extension": ".py",
   "mimetype": "text/x-python",
   "name": "python",
   "nbconvert_exporter": "python",
   "pygments_lexer": "ipython3",
   "version": "3.12.0"
  }
 },
 "nbformat": 4,
 "nbformat_minor": 2
}
