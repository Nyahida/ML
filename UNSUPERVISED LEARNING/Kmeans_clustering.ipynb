{
 "cells": [
  {
   "cell_type": "markdown",
   "id": "6af2607f",
   "metadata": {},
   "source": [
    "# K Means Clustering Implementation"
   ]
  },
  {
   "cell_type": "code",
   "execution_count": 1,
   "id": "a7f2b33f",
   "metadata": {},
   "outputs": [],
   "source": [
    "import matplotlib.pyplot as plt\n",
    "from sklearn.datasets import make_blobs\n",
    "import pandas as pd\n",
    "import numpy as np"
   ]
  },
  {
   "cell_type": "code",
   "execution_count": 3,
   "metadata": {},
   "outputs": [],
   "source": [
    "X,y=make_blobs(n_samples=1000,centers=3,n_features=2)"
   ]
  },
  {
   "cell_type": "code",
   "execution_count": 4,
   "metadata": {},
   "outputs": [
    {
     "data": {
      "text/plain": [
       "array([[-9.47687477, -8.67787927],\n",
       "       [ 2.35638305, -0.71278594],\n",
       "       [ 1.37108617,  0.10140433],\n",
       "       ...,\n",
       "       [ 1.6543782 ,  1.33601533],\n",
       "       [ 3.46772101,  1.62543158],\n",
       "       [ 2.93608913,  2.52462568]], shape=(1000, 2))"
      ]
     },
     "execution_count": 4,
     "metadata": {},
     "output_type": "execute_result"
    }
   ],
   "source": [
    "X"
   ]
  },
  {
   "cell_type": "code",
   "execution_count": 5,
   "metadata": {},
   "outputs": [
    {
     "data": {
      "text/plain": [
       "array([2, 1, 1, 1, 2, 2, 0, 1, 2, 1, 2, 0, 1, 2, 2, 1, 1, 0, 1, 2, 2, 2,\n",
       "       1, 2, 1, 1, 0, 0, 1, 0, 1, 0, 2, 1, 1, 2, 1, 1, 2, 1, 1, 2, 1, 0,\n",
       "       2, 0, 1, 0, 2, 2, 1, 1, 0, 0, 1, 2, 0, 0, 2, 0, 1, 1, 0, 0, 1, 0,\n",
       "       1, 1, 0, 2, 2, 1, 1, 0, 0, 0, 0, 1, 2, 0, 2, 2, 1, 2, 0, 2, 2, 2,\n",
       "       0, 0, 2, 2, 2, 1, 1, 0, 2, 1, 1, 1, 2, 2, 0, 0, 1, 1, 0, 2, 2, 2,\n",
       "       1, 0, 2, 2, 2, 2, 0, 2, 0, 2, 0, 2, 0, 2, 2, 2, 2, 0, 2, 2, 1, 2,\n",
       "       1, 2, 2, 1, 0, 0, 0, 1, 2, 2, 1, 0, 2, 2, 0, 0, 1, 2, 0, 0, 0, 1,\n",
       "       0, 1, 0, 1, 1, 2, 1, 1, 1, 0, 2, 2, 0, 1, 2, 0, 0, 0, 1, 0, 1, 0,\n",
       "       0, 0, 0, 1, 0, 1, 2, 2, 1, 2, 2, 2, 2, 0, 2, 0, 1, 1, 1, 2, 0, 1,\n",
       "       2, 2, 0, 0, 0, 2, 1, 1, 2, 1, 1, 1, 0, 0, 1, 1, 0, 2, 0, 1, 2, 1,\n",
       "       1, 0, 2, 0, 0, 0, 2, 1, 1, 2, 1, 1, 0, 2, 2, 2, 0, 0, 1, 2, 0, 1,\n",
       "       1, 0, 0, 0, 2, 0, 0, 1, 1, 0, 1, 2, 2, 1, 0, 1, 0, 1, 1, 2, 1, 1,\n",
       "       2, 1, 0, 2, 2, 0, 2, 1, 0, 1, 0, 2, 1, 1, 1, 2, 2, 1, 0, 2, 0, 0,\n",
       "       1, 1, 1, 0, 1, 0, 2, 1, 0, 1, 0, 0, 0, 1, 1, 1, 0, 1, 2, 2, 1, 1,\n",
       "       0, 0, 1, 2, 1, 1, 2, 2, 1, 2, 2, 1, 1, 0, 1, 2, 1, 1, 2, 2, 2, 2,\n",
       "       1, 0, 0, 1, 0, 0, 0, 2, 0, 0, 2, 2, 1, 2, 0, 0, 0, 0, 1, 2, 1, 1,\n",
       "       1, 1, 2, 2, 1, 1, 2, 1, 1, 1, 0, 0, 0, 0, 2, 2, 0, 0, 2, 1, 1, 2,\n",
       "       2, 0, 2, 1, 0, 1, 2, 2, 1, 1, 0, 2, 0, 1, 2, 1, 2, 0, 2, 1, 1, 0,\n",
       "       0, 1, 2, 0, 1, 0, 0, 1, 1, 0, 2, 1, 0, 0, 1, 0, 1, 0, 1, 1, 2, 0,\n",
       "       0, 2, 2, 2, 1, 0, 2, 2, 1, 1, 2, 2, 0, 0, 2, 0, 0, 2, 2, 0, 0, 1,\n",
       "       1, 0, 1, 0, 1, 1, 1, 0, 1, 2, 2, 2, 1, 0, 0, 1, 0, 2, 2, 2, 1, 1,\n",
       "       1, 1, 2, 0, 2, 1, 0, 0, 1, 0, 2, 0, 1, 1, 0, 2, 0, 0, 0, 2, 2, 0,\n",
       "       0, 0, 1, 1, 0, 1, 0, 2, 2, 1, 0, 2, 2, 2, 1, 2, 1, 2, 0, 2, 0, 0,\n",
       "       2, 2, 2, 2, 0, 2, 0, 2, 1, 0, 0, 0, 1, 1, 1, 0, 0, 1, 1, 2, 1, 0,\n",
       "       0, 0, 2, 1, 1, 2, 0, 2, 0, 0, 0, 2, 2, 0, 1, 2, 2, 0, 2, 1, 1, 0,\n",
       "       0, 1, 1, 2, 1, 1, 0, 0, 0, 1, 2, 2, 1, 1, 0, 2, 0, 0, 2, 1, 1, 1,\n",
       "       1, 1, 0, 0, 2, 2, 2, 1, 1, 0, 0, 0, 2, 2, 1, 2, 2, 1, 1, 0, 0, 1,\n",
       "       0, 0, 0, 2, 1, 1, 0, 0, 0, 2, 0, 2, 2, 1, 1, 1, 1, 2, 1, 2, 1, 2,\n",
       "       2, 1, 2, 0, 1, 2, 2, 1, 0, 0, 0, 0, 2, 1, 2, 0, 1, 2, 2, 2, 0, 0,\n",
       "       0, 2, 0, 1, 2, 1, 0, 0, 0, 2, 1, 1, 1, 1, 0, 2, 2, 2, 0, 0, 2, 1,\n",
       "       2, 2, 0, 2, 2, 1, 1, 0, 1, 0, 1, 0, 2, 2, 0, 1, 2, 2, 1, 0, 2, 1,\n",
       "       0, 1, 2, 1, 1, 2, 1, 1, 0, 0, 1, 1, 0, 2, 1, 0, 1, 0, 2, 1, 0, 2,\n",
       "       1, 2, 0, 2, 2, 0, 1, 1, 2, 2, 0, 2, 1, 0, 2, 0, 1, 2, 0, 0, 2, 1,\n",
       "       1, 1, 2, 2, 0, 0, 1, 1, 2, 0, 0, 2, 2, 0, 1, 2, 0, 1, 1, 0, 0, 2,\n",
       "       0, 2, 1, 1, 0, 1, 1, 2, 1, 2, 2, 2, 1, 2, 2, 2, 0, 2, 0, 2, 1, 1,\n",
       "       1, 0, 1, 0, 1, 2, 2, 2, 0, 2, 2, 1, 2, 0, 2, 1, 2, 1, 2, 2, 0, 0,\n",
       "       0, 1, 1, 0, 0, 1, 2, 2, 2, 2, 2, 1, 1, 0, 0, 0, 1, 0, 1, 0, 2, 0,\n",
       "       0, 2, 0, 0, 1, 1, 1, 1, 0, 1, 1, 2, 0, 0, 0, 2, 1, 1, 2, 2, 1, 2,\n",
       "       2, 0, 0, 1, 0, 2, 0, 2, 0, 2, 2, 0, 2, 1, 1, 1, 2, 2, 0, 2, 0, 0,\n",
       "       0, 2, 2, 0, 1, 2, 0, 1, 0, 1, 1, 1, 2, 0, 2, 0, 2, 0, 0, 2, 2, 0,\n",
       "       2, 0, 1, 1, 0, 1, 0, 0, 2, 0, 2, 1, 1, 2, 2, 2, 0, 1, 0, 1, 2, 2,\n",
       "       1, 1, 1, 2, 1, 1, 0, 1, 0, 0, 0, 2, 1, 2, 2, 1, 2, 0, 0, 0, 1, 0,\n",
       "       2, 2, 2, 1, 0, 1, 2, 1, 0, 2, 0, 2, 2, 0, 1, 1, 1, 2, 2, 2, 2, 0,\n",
       "       0, 0, 2, 2, 2, 0, 1, 0, 2, 0, 1, 1, 0, 1, 0, 2, 2, 0, 2, 0, 2, 1,\n",
       "       0, 2, 1, 0, 2, 1, 1, 2, 1, 0, 0, 0, 1, 0, 0, 2, 0, 2, 2, 2, 0, 0,\n",
       "       0, 2, 1, 2, 1, 0, 2, 1, 1, 1])"
      ]
     },
     "execution_count": 5,
     "metadata": {},
     "output_type": "execute_result"
    }
   ],
   "source": [
    "y"
   ]
  },
  {
   "cell_type": "code",
   "execution_count": 8,
   "metadata": {},
   "outputs": [
    {
     "data": {
      "text/plain": [
       "<matplotlib.collections.PathCollection at 0x21baa0a8860>"
      ]
     },
     "execution_count": 8,
     "metadata": {},
     "output_type": "execute_result"
    },
    {
     "data": {
      "image/png": "[encoded data removed]",
      "text/plain": [
       "<Figure size 640x480 with 1 Axes>"
      ]
     },
     "metadata": {},
     "output_type": "display_data"
    }
   ],
   "source": [
    "plt.scatter(X[:,0],X[:,1],c=y)"
   ]
  },
  {
   "cell_type": "code",
   "execution_count": 9,
   "metadata": {},
   "outputs": [],
   "source": [
    "# Standardization---feature scaling technique\n",
    "from sklearn.preprocessing import StandardScaler\n",
    "scaler=StandardScaler()"
   ]
  },
  {
   "cell_type": "code",
   "execution_count": 10,
   "metadata": {},
   "outputs": [],
   "source": [
    "from sklearn.model_selection import train_test_split"
   ]
  },
  {
   "cell_type": "code",
   "execution_count": 11,
   "metadata": {},
   "outputs": [],
   "source": [
    "X_train, X_test, y_train, y_test = train_test_split( X, y, test_size=0.33, random_state=42)"
   ]
  },
  {
   "cell_type": "code",
   "execution_count": 12,
   "metadata": {},
   "outputs": [],
   "source": [
    "X_train_scaled=scaler.fit_transform(X_train)\n",
    "X_test_scaled=scaler.transform(X_test)"
   ]
  },
  {
   "cell_type": "code",
   "execution_count": 13,
   "metadata": {},
   "outputs": [],
   "source": [
    "from sklearn.cluster import KMeans"
   ]
  },
  {
   "cell_type": "code",
   "execution_count": 14,
   "metadata": {},
   "outputs": [],
   "source": [
    "## Elbow Method to select k Value\n",
    "wcss=[]\n",
    "for k in range(1,11):\n",
    "    kmeans=KMeans(n_clusters=k,init=\"k-means++\")\n",
    "    kmeans.fit(X_train_scaled)\n",
    "    wcss.append(kmeans.inertia_)"
   ]
  },
  {
   "cell_type": "code",
   "execution_count": 15,
   "metadata": {},
   "outputs": [
    {
     "data": {
      "text/plain": [
       "[1340.0000000000018,\n",
       " 292.9400927358984,\n",
       " 24.741526800957264,\n",
       " 21.528466246984273,\n",
       " 18.55900758071486,\n",
       " 16.52514199027786,\n",
       " 13.782618327731747,\n",
       " 12.90155165005541,\n",
       " 11.572251576589409,\n",
       " 10.405489622182348]"
      ]
     },
     "execution_count": 15,
     "metadata": {},
     "output_type": "execute_result"
    }
   ],
   "source": [
    "wcss"
   ]
  },
  {
   "cell_type": "code",
   "execution_count": 16,
   "metadata": {},
   "outputs": [
    {
     "data": {
      "image/png": "[encoded data removed]",
      "text/plain": [
       "<Figure size 640x480 with 1 Axes>"
      ]
     },
     "metadata": {},
     "output_type": "display_data"
    }
   ],
   "source": [
    "## Plot Elbow Curve\n",
    "plt.plot(range(1,11),wcss)\n",
    "plt.xticks(range(1,11))\n",
    "plt.xlabel(\"Number of Clusters\")\n",
    "plt.ylabel(\"WCSS\")\n",
    "plt.show()"
   ]
  },
  {
   "cell_type": "code",
   "execution_count": 17,
   "metadata": {},
   "outputs": [],
   "source": [
    "kmeans=KMeans(n_clusters=3,init=\"k-means++\")"
   ]
  },
  {
   "cell_type": "code",
   "execution_count": null,
   "metadata": {},
   "outputs": [
    {
     "data": {
      "text/plain": [
       "array([1, 1, 0, 2, 1, 2, 0, 2, 1, 2, 1, 2, 2, 1, 2, 1, 2, 2, 1, 2, 2, 0,\n",
       "       1, 1, 0, 1, 2, 1, 1, 1, 0, 2, 2, 1, 1, 2, 0, 2, 1, 1, 0, 1, 1, 0,\n",
       "       0, 0, 0, 0, 0, 0, 2, 1, 0, 1, 2, 0, 2, 2, 0, 2, 1, 1, 2, 1, 1, 0,\n",
       "       0, 2, 1, 2, 2, 2, 1, 2, 1, 0, 1, 0, 2, 1, 0, 0, 2, 1, 0, 2, 0, 1,\n",
       "       2, 0, 2, 1, 0, 1, 0, 1, 1, 2, 0, 0, 0, 2, 1, 0, 2, 2, 1, 0, 0, 1,\n",
       "       0, 2, 2, 1, 0, 0, 1, 0, 2, 1, 1, 0, 2, 0, 0, 1, 2, 0, 0, 2, 0, 1,\n",
       "       2, 1, 1, 2, 1, 0, 1, 1, 0, 1, 1, 0, 0, 0, 0, 1, 1, 2, 1, 2, 0, 0,\n",
       "       1, 0, 2, 1, 2, 1, 0, 1, 2, 1, 2, 0, 2, 1, 1, 2, 1, 0, 0, 0, 2, 0,\n",
       "       1, 2, 2, 2, 2, 0, 0, 2, 2, 1, 1, 2, 1, 2, 2, 2, 0, 1, 0, 2, 1, 1,\n",
       "       1, 2, 0, 0, 1, 0, 0, 0, 2, 0, 0, 2, 1, 2, 0, 2, 1, 1, 0, 1, 0, 1,\n",
       "       0, 0, 2, 0, 1, 0, 0, 1, 2, 1, 1, 2, 2, 0, 2, 0, 2, 1, 1, 1, 1, 1,\n",
       "       1, 2, 2, 2, 2, 2, 0, 0, 2, 1, 0, 0, 2, 2, 0, 2, 1, 0, 0, 0, 0, 2,\n",
       "       0, 0, 2, 0, 2, 2, 0, 0, 2, 2, 0, 1, 1, 1, 1, 1, 0, 2, 1, 1, 0, 2,\n",
       "       0, 0, 0, 0, 2, 2, 2, 0, 2, 1, 1, 0, 2, 0, 2, 0, 1, 1, 1, 0, 0, 1,\n",
       "       0, 0, 0, 1, 2, 0, 1, 0, 2, 2, 2, 1, 2, 0, 0, 1, 1, 2, 2, 0, 2, 0,\n",
       "       0, 1, 1, 1, 0, 1, 2, 0, 1, 1, 2, 2, 1, 1, 1, 0, 0, 2, 0, 2, 1, 1,\n",
       "       1, 1, 0, 2, 2, 2, 1, 2, 0, 2, 2, 2, 2, 2, 2, 0, 2, 0, 1, 0, 0, 0,\n",
       "       0, 0, 0, 0, 2, 2, 0, 2, 2, 2, 2, 1, 1, 1, 2, 0, 0, 2, 2, 1, 2, 2,\n",
       "       0, 1, 0, 0, 1, 2, 0, 1, 2, 1, 0, 1, 0, 0, 1, 2, 0, 1, 2, 2, 1, 0,\n",
       "       0, 0, 0, 1, 2, 0, 1, 1, 1, 2, 0, 1, 1, 0, 0, 2, 2, 0, 1, 0, 0, 1,\n",
       "       2, 1, 1, 2, 2, 0, 0, 1, 0, 2, 0, 2, 0, 1, 0, 0, 0, 0, 1, 0, 0, 1,\n",
       "       1, 0, 1, 0, 1, 2, 0, 1, 0, 2, 1, 0, 1, 2, 2, 1, 2, 1, 1, 0, 1, 1,\n",
       "       0, 0, 1, 2, 0, 2, 0, 0, 0, 0, 2, 1, 1, 1, 1, 2, 2, 0, 1, 2, 1, 2,\n",
       "       1, 2, 2, 1, 1, 2, 2, 2, 2, 2, 2, 1, 0, 0, 1, 1, 2, 0, 1, 0, 1, 2,\n",
       "       2, 2, 0, 2, 0, 0, 0, 0, 2, 0, 0, 0, 1, 1, 2, 2, 0, 1, 2, 1, 1, 0,\n",
       "       2, 1, 2, 1, 1, 0, 0, 0, 1, 1, 0, 0, 1, 2, 2, 0, 2, 2, 2, 1, 1, 2,\n",
       "       0, 0, 2, 2, 1, 0, 0, 0, 2, 0, 2, 1, 2, 2, 0, 0, 1, 1, 2, 2, 1, 1,\n",
       "       2, 0, 1, 1, 0, 2, 0, 0, 1, 2, 1, 1, 0, 2, 2, 0, 0, 2, 0, 2, 0, 2,\n",
       "       0, 2, 0, 0, 0, 2, 2, 0, 1, 0, 2, 2, 0, 1, 2, 1, 0, 1, 2, 1, 2, 1,\n",
       "       2, 2, 0, 0, 1, 0, 0, 1, 1, 2, 0, 1, 2, 1, 0, 2, 2, 1, 1, 2, 0, 1,\n",
       "       1, 2, 1, 1, 2, 0, 1, 1, 1, 0], dtype=int32)"
      ]
     },
     "execution_count": 18,
     "metadata": {},
     "output_type": "execute_result"
    }
   ],
   "source": [
    "## Predictiom on trained data\n",
    "kmeans.fit_predict(X_train_scaled)"
   ]
  },
  {
   "cell_type": "code",
   "execution_count": 19,
   "metadata": {},
   "outputs": [],
   "source": [
    "## Predictiom on test data\n",
    "y_pred=kmeans.predict(X_test_scaled)"
   ]
  },
  {
   "cell_type": "code",
   "execution_count": 20,
   "metadata": {},
   "outputs": [
    {
     "data": {
      "text/plain": [
       "array([0, 1, 2, 1, 0, 2, 0, 1, 1, 0, 0, 0, 0, 2, 2, 2, 1, 2, 1, 2, 0, 2,\n",
       "       2, 0, 0, 1, 1, 1, 2, 0, 0, 2, 1, 1, 1, 1, 1, 1, 1, 0, 1, 1, 2, 2,\n",
       "       2, 2, 1, 0, 2, 0, 2, 0, 1, 1, 1, 2, 2, 1, 0, 2, 0, 2, 2, 2, 0, 2,\n",
       "       0, 0, 1, 1, 1, 2, 2, 1, 1, 0, 0, 2, 2, 2, 0, 2, 1, 2, 1, 2, 2, 0,\n",
       "       2, 1, 2, 1, 0, 1, 2, 1, 0, 0, 0, 0, 2, 2, 1, 0, 1, 0, 2, 2, 1, 2,\n",
       "       0, 2, 1, 0, 1, 1, 2, 0, 0, 0, 2, 1, 1, 2, 0, 2, 0, 2, 2, 1, 2, 2,\n",
       "       2, 0, 0, 1, 0, 1, 2, 2, 1, 0, 1, 2, 1, 2, 2, 0, 0, 0, 2, 2, 0, 1,\n",
       "       1, 2, 0, 0, 2, 0, 0, 1, 2, 2, 2, 2, 0, 2, 1, 2, 2, 0, 2, 0, 2, 0,\n",
       "       1, 2, 1, 1, 0, 2, 2, 2, 1, 0, 1, 0, 1, 1, 1, 1, 0, 1, 2, 0, 0, 2,\n",
       "       1, 1, 0, 1, 1, 0, 1, 0, 1, 1, 1, 2, 0, 1, 1, 0, 1, 0, 1, 2, 2, 1,\n",
       "       1, 1, 1, 1, 0, 2, 1, 2, 2, 0, 0, 2, 1, 0, 2, 0, 2, 0, 2, 2, 2, 2,\n",
       "       2, 1, 2, 1, 0, 2, 0, 2, 2, 1, 1, 1, 1, 1, 2, 1, 2, 1, 0, 0, 2, 0,\n",
       "       2, 2, 1, 1, 0, 1, 0, 0, 1, 2, 2, 2, 0, 1, 1, 0, 1, 2, 1, 2, 0, 0,\n",
       "       2, 1, 2, 1, 0, 0, 1, 1, 0, 0, 1, 1, 2, 2, 0, 2, 1, 2, 0, 1, 0, 1,\n",
       "       0, 0, 0, 1, 0, 1, 2, 0, 2, 2, 1, 2, 0, 2, 0, 1, 1, 1, 2, 0, 2, 1],\n",
       "      dtype=int32)"
      ]
     },
     "execution_count": 20,
     "metadata": {},
     "output_type": "execute_result"
    }
   ],
   "source": [
    "y_pred"
   ]
  },
  {
   "cell_type": "code",
   "execution_count": 21,
   "metadata": {},
   "outputs": [
    {
     "data": {
      "text/plain": [
       "<matplotlib.collections.PathCollection at 0x21ba9f177a0>"
      ]
     },
     "execution_count": 21,
     "metadata": {},
     "output_type": "execute_result"
    },
    {
     "data": {
      "image/png": "[encoded data removed]",
      "text/plain": [
       "<Figure size 640x480 with 1 Axes>"
      ]
     },
     "metadata": {},
     "output_type": "display_data"
    }
   ],
   "source": [
    "plt.scatter(X_test[:,0],X_test[:,1],c=y_test)"
   ]
  },
  {
   "cell_type": "code",
   "execution_count": null,
   "metadata": {},
   "outputs": [],
   "source": [
    "## Validating the k Value\n",
    "### 1.kneelocator\n",
    "### 2.Silhoutee scoring"
   ]
  },
  {
   "cell_type": "code",
   "execution_count": null,
   "metadata": {},
   "outputs": [
    {
     "name": "stdout",
     "output_type": "stream",
     "text": [
      "Collecting kneed\n",
      "  Downloading kneed-0.8.5-py3-none-any.whl.metadata (5.5 kB)\n",
      "Requirement already satisfied: numpy>=1.14.2 in c:\\users\\enter\\appdata\\roaming\\python\\python312\\site-packages (from kneed) (2.2.0)\n",
      "Requirement already satisfied: scipy>=1.0.0 in c:\\users\\enter\\appdata\\roaming\\python\\python312\\site-packages (from kneed) (1.15.1)\n",
      "Downloading kneed-0.8.5-py3-none-any.whl (10 kB)\n",
      "Installing collected packages: kneed\n",
      "Successfully installed kneed-0.8.5\n"
     ]
    }
   ],
   "source": [
    "# Kneelocator\n",
    "!pip install kneed"
   ]
  },
  {
   "cell_type": "code",
   "execution_count": 24,
   "metadata": {},
   "outputs": [],
   "source": [
    "from kneed import KneeLocator"
   ]
  },
  {
   "cell_type": "code",
   "execution_count": 25,
   "metadata": {},
   "outputs": [],
   "source": [
    "kl=KneeLocator(range(1,11),wcss,curve=\"convex\",direction=\"decreasing\")"
   ]
  },
  {
   "cell_type": "code",
   "execution_count": 26,
   "metadata": {},
   "outputs": [
    {
     "data": {
      "text/plain": [
       "np.int64(3)"
      ]
     },
     "execution_count": 26,
     "metadata": {},
     "output_type": "execute_result"
    }
   ],
   "source": [
    "kl.elbow"
   ]
  },
  {
   "cell_type": "code",
   "execution_count": 27,
   "metadata": {},
   "outputs": [],
   "source": [
    "# Silhoutte score\n",
    "from sklearn.metrics import silhouette_score"
   ]
  },
  {
   "cell_type": "code",
   "execution_count": 28,
   "metadata": {},
   "outputs": [],
   "source": [
    "silhoutte_coeff=[]\n",
    "for k in range(2,11):\n",
    "    kmeans=KMeans(n_clusters=k,init=\"k-means++\")\n",
    "    kmeans.fit(X_train_scaled)\n",
    "    score=silhouette_score(X_train_scaled,kmeans.labels_)\n",
    "    silhoutte_coeff.append(score)"
   ]
  },
  {
   "cell_type": "code",
   "execution_count": 29,
   "metadata": {},
   "outputs": [
    {
     "data": {
      "text/plain": [
       "[np.float64(0.6309422093029381),\n",
       " np.float64(0.8519213819465551),\n",
       " np.float64(0.687914190635801),\n",
       " np.float64(0.6734355202150119),\n",
       " np.float64(0.3498458195883574),\n",
       " np.float64(0.35225125185749256),\n",
       " np.float64(0.341251822529296),\n",
       " np.float64(0.34982568415119625),\n",
       " np.float64(0.34466561416656283)]"
      ]
     },
     "execution_count": 29,
     "metadata": {},
     "output_type": "execute_result"
    }
   ],
   "source": [
    "silhoutte_coeff"
   ]
  },
  {
   "cell_type": "code",
   "execution_count": 31,
   "metadata": {},
   "outputs": [
    {
     "data": {
      "image/png": "[encoded data removed]",
      "text/plain": [
       "<Figure size 640x480 with 1 Axes>"
      ]
     },
     "metadata": {},
     "output_type": "display_data"
    }
   ],
   "source": [
    "plt.plot(range(2,11),silhoutte_coeff)\n",
    "plt.xticks(range(2,11))\n",
    "plt.xlabel(\"Number of Clusters\")\n",
    "plt.ylabel(\"Silhoutte Coefficient\")\n",
    "plt.show()"
   ]
  },
  {
   "cell_type": "code",
   "execution_count": null,
   "metadata": {},
   "outputs": [],
   "source": [
    "## wherever the silhoutte coefficient is maximum that point will be considered as k value(no.of clusters)"
   ]
  },
  {
   "cell_type": "code",
   "execution_count": null,
   "metadata": {},
   "outputs": [],
   "source": []
  },
  {
   "cell_type": "code",
   "execution_count": null,
   "metadata": {},
   "outputs": [],
   "source": []
  },
  {
   "cell_type": "code",
   "execution_count": null,
   "metadata": {},
   "outputs": [],
   "source": []
  },
  {
   "cell_type": "code",
   "execution_count": null,
   "metadata": {},
   "outputs": [],
   "source": []
  },
  {
   "cell_type": "code",
   "execution_count": null,
   "metadata": {},
   "outputs": [],
   "source": []
  },
  {
   "cell_type": "code",
   "execution_count": null,
   "metadata": {},
   "outputs": [],
   "source": []
  },
  {
   "cell_type": "code",
   "execution_count": null,
   "metadata": {},
   "outputs": [],
   "source": []
  },
  {
   "cell_type": "code",
   "execution_count": null,
   "metadata": {},
   "outputs": [],
   "source": []
  },
  {
   "cell_type": "code",
   "execution_count": null,
   "metadata": {},
   "outputs": [],
   "source": []
  },
  {
   "cell_type": "code",
   "execution_count": null,
   "metadata": {},
   "outputs": [],
   "source": []
  },
  {
   "cell_type": "code",
   "execution_count": null,
   "metadata": {},
   "outputs": [],
   "source": []
  },
  {
   "cell_type": "code",
   "execution_count": null,
   "metadata": {},
   "outputs": [],
   "source": []
  },
  {
   "cell_type": "code",
   "execution_count": null,
   "metadata": {},
   "outputs": [],
   "source": []
  },
  {
   "cell_type": "code",
   "execution_count": null,
   "metadata": {},
   "outputs": [],
   "source": []
  },
  {
   "cell_type": "code",
   "execution_count": null,
   "metadata": {},
   "outputs": [],
   "source": []
  },
  {
   "cell_type": "code",
   "execution_count": null,
   "metadata": {},
   "outputs": [],
   "source": []
  },
  {
   "cell_type": "code",
   "execution_count": null,
   "metadata": {},
   "outputs": [],
   "source": []
  },
  {
   "cell_type": "code",
   "execution_count": null,
   "metadata": {},
   "outputs": [],
   "source": []
  },
  {
   "cell_type": "code",
   "execution_count": null,
   "id": "1d30becb",
   "metadata": {},
   "outputs": [],
   "source": []
  },
  {
   "cell_type": "code",
   "execution_count": null,
   "id": "4962d6a1",
   "metadata": {},
   "outputs": [],
   "source": []
  },
  {
   "cell_type": "code",
   "execution_count": null,
   "id": "ad9ea70e",
   "metadata": {},
   "outputs": [],
   "source": []
  }
 ],
 "metadata": {
  "kernelspec": {
   "display_name": "Python 3",
   "language": "python",
   "name": "python3"
  },
  "language_info": {
   "codemirror_mode": {
    "name": "ipython",
    "version": 3
   },
   "file_extension": ".py",
   "mimetype": "text/x-python",
   "name": "python",
   "nbconvert_exporter": "python",
   "pygments_lexer": "ipython3",
   "version": "3.12.0"
  }
 },
 "nbformat": 4,
 "nbformat_minor": 5
}
